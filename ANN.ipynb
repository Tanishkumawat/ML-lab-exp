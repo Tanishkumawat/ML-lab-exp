{
  "nbformat": 4,
  "nbformat_minor": 0,
  "metadata": {
    "colab": {
      "provenance": [],
      "authorship_tag": "ABX9TyOamHXFMgBG91z3GeOo+GKk",
      "include_colab_link": true
    },
    "kernelspec": {
      "name": "python3",
      "display_name": "Python 3"
    },
    "language_info": {
      "name": "python"
    }
  },
  "cells": [
    {
      "cell_type": "markdown",
      "metadata": {
        "id": "view-in-github",
        "colab_type": "text"
      },
      "source": [
        "<a href=\"https://colab.research.google.com/github/Tanishkumawat/ML-lab-exp/blob/main/ANN.ipynb\" target=\"_parent\"><img src=\"https://colab.research.google.com/assets/colab-badge.svg\" alt=\"Open In Colab\"/></a>"
      ]
    },
    {
      "cell_type": "code",
      "execution_count": 1,
      "metadata": {
        "colab": {
          "base_uri": "https://localhost:8080/"
        },
        "id": "MnBRl_IweNrq",
        "outputId": "13797e35-0a71-4aec-bcff-3424cbabb2a5"
      },
      "outputs": [
        {
          "output_type": "stream",
          "name": "stdout",
          "text": [
            "Downloading data from https://storage.googleapis.com/tensorflow/tf-keras-datasets/mnist.npz\n",
            "11490434/11490434 [==============================] - 0s 0us/step\n"
          ]
        }
      ],
      "source": [
        "from keras.datasets import mnist\n",
        "(train_images, train_labels), (test_images, test_labels) = mnist.load_data()"
      ]
    },
    {
      "cell_type": "code",
      "source": [
        "from keras import models\n",
        "from keras import layers\n",
        "network = models.Sequential()\n",
        "# Dense(32) is a fully-connected layer with 32 hidden units.\n",
        "# in the first layer, you must specify the expected input data shape :\n",
        "# here, 28 X 28=784 -dimensional vectors.\n",
        "network.add(layers.Dense(32, activation='sigmoid', input_shape=(28 * 28, )))\n",
        "network.add(layers.Dense(8, activation='sigmoid'))\n",
        "network.add(layers.Dense(10, activation='softmax'))\n",
        "network.summary()\n",
        "from google.colab import drive\n",
        "drive.mount('/content/drive')"
      ],
      "metadata": {
        "colab": {
          "base_uri": "https://localhost:8080/"
        },
        "id": "0iGeysp1eqcr",
        "outputId": "c5bf50f8-5a1b-4af1-eb6d-ad466c9c9173"
      },
      "execution_count": 2,
      "outputs": [
        {
          "output_type": "stream",
          "name": "stdout",
          "text": [
            "Model: \"sequential\"\n",
            "_________________________________________________________________\n",
            " Layer (type)                Output Shape              Param #   \n",
            "=================================================================\n",
            " dense (Dense)               (None, 32)                25120     \n",
            "                                                                 \n",
            " dense_1 (Dense)             (None, 8)                 264       \n",
            "                                                                 \n",
            " dense_2 (Dense)             (None, 10)                90        \n",
            "                                                                 \n",
            "=================================================================\n",
            "Total params: 25474 (99.51 KB)\n",
            "Trainable params: 25474 (99.51 KB)\n",
            "Non-trainable params: 0 (0.00 Byte)\n",
            "_________________________________________________________________\n",
            "Mounted at /content/drive\n"
          ]
        }
      ]
    },
    {
      "cell_type": "markdown",
      "source": [
        "The compilation step"
      ],
      "metadata": {
        "id": "PzDk0F-qe_7x"
      }
    },
    {
      "cell_type": "code",
      "source": [
        "network.compile(optimizer='sgd',\n",
        "                loss='categorical_crossentropy',\n",
        "                metrics=['accuracy'])"
      ],
      "metadata": {
        "id": "Fklms2zLe4Wq"
      },
      "execution_count": 4,
      "outputs": []
    },
    {
      "cell_type": "markdown",
      "source": [
        "Preparing the image data"
      ],
      "metadata": {
        "id": "k9hajwR8fOoK"
      }
    },
    {
      "cell_type": "code",
      "source": [
        "train_images = train_images.reshape((60000, 28 * 28))\n",
        "train_images = train_images.astype('float32') / 255.\n",
        "test_images = test_images.reshape((10000, 28 * 28))\n",
        "test_images = test_images.astype('float32') / 255."
      ],
      "metadata": {
        "id": "Wf7lmDMsfPaC"
      },
      "execution_count": 5,
      "outputs": []
    },
    {
      "cell_type": "markdown",
      "source": [
        "Preparing the labels\n"
      ],
      "metadata": {
        "id": "5JQp8AqNfa1I"
      }
    },
    {
      "cell_type": "code",
      "source": [
        "from keras.utils import to_categorical\n",
        "train_labels = to_categorical(train_labels)\n",
        "train_labels\n",
        "test_labels = to_categorical(test_labels)\n",
        "test_labels"
      ],
      "metadata": {
        "colab": {
          "base_uri": "https://localhost:8080/"
        },
        "id": "WKbz8OxrfcvC",
        "outputId": "608d7969-5cbc-4ec7-978e-6b0277324845"
      },
      "execution_count": 6,
      "outputs": [
        {
          "output_type": "execute_result",
          "data": {
            "text/plain": [
              "array([[0., 0., 0., ..., 1., 0., 0.],\n",
              "       [0., 0., 1., ..., 0., 0., 0.],\n",
              "       [0., 1., 0., ..., 0., 0., 0.],\n",
              "       ...,\n",
              "       [0., 0., 0., ..., 0., 0., 0.],\n",
              "       [0., 0., 0., ..., 0., 0., 0.],\n",
              "       [0., 0., 0., ..., 0., 0., 0.]], dtype=float32)"
            ]
          },
          "metadata": {},
          "execution_count": 6
        }
      ]
    },
    {
      "cell_type": "markdown",
      "source": [
        "Training and Testing"
      ],
      "metadata": {
        "id": "zZrgT7gofkGR"
      }
    },
    {
      "cell_type": "code",
      "source": [
        "network.fit(train_images, train_labels, epochs=160, batch_size=512)\n"
      ],
      "metadata": {
        "colab": {
          "base_uri": "https://localhost:8080/"
        },
        "id": "5wIMmW-Nfk-I",
        "outputId": "c7024bd2-7453-4ea0-ec13-56cc556aeac3"
      },
      "execution_count": 7,
      "outputs": [
        {
          "output_type": "stream",
          "name": "stdout",
          "text": [
            "Epoch 1/160\n",
            "118/118 [==============================] - 1s 5ms/step - loss: 2.3737 - accuracy: 0.1000\n",
            "Epoch 2/160\n",
            "118/118 [==============================] - 1s 5ms/step - loss: 2.3343 - accuracy: 0.1103\n",
            "Epoch 3/160\n",
            "118/118 [==============================] - 1s 5ms/step - loss: 2.3095 - accuracy: 0.1338\n",
            "Epoch 4/160\n",
            "118/118 [==============================] - 1s 5ms/step - loss: 2.2929 - accuracy: 0.1723\n",
            "Epoch 5/160\n",
            "118/118 [==============================] - 1s 4ms/step - loss: 2.2805 - accuracy: 0.2236\n",
            "Epoch 6/160\n",
            "118/118 [==============================] - 1s 4ms/step - loss: 2.2703 - accuracy: 0.2481\n",
            "Epoch 7/160\n",
            "118/118 [==============================] - 1s 6ms/step - loss: 2.2610 - accuracy: 0.2576\n",
            "Epoch 8/160\n",
            "118/118 [==============================] - 1s 7ms/step - loss: 2.2520 - accuracy: 0.2624\n",
            "Epoch 9/160\n",
            "118/118 [==============================] - 1s 7ms/step - loss: 2.2428 - accuracy: 0.2910\n",
            "Epoch 10/160\n",
            "118/118 [==============================] - 1s 7ms/step - loss: 2.2332 - accuracy: 0.3250\n",
            "Epoch 11/160\n",
            "118/118 [==============================] - 1s 7ms/step - loss: 2.2231 - accuracy: 0.3242\n",
            "Epoch 12/160\n",
            "118/118 [==============================] - 1s 6ms/step - loss: 2.2124 - accuracy: 0.3250\n",
            "Epoch 13/160\n",
            "118/118 [==============================] - 1s 5ms/step - loss: 2.2008 - accuracy: 0.3341\n",
            "Epoch 14/160\n",
            "118/118 [==============================] - 1s 5ms/step - loss: 2.1885 - accuracy: 0.3399\n",
            "Epoch 15/160\n",
            "118/118 [==============================] - 1s 5ms/step - loss: 2.1754 - accuracy: 0.3479\n",
            "Epoch 16/160\n",
            "118/118 [==============================] - 1s 5ms/step - loss: 2.1615 - accuracy: 0.3608\n",
            "Epoch 17/160\n",
            "118/118 [==============================] - 1s 5ms/step - loss: 2.1467 - accuracy: 0.3708\n",
            "Epoch 18/160\n",
            "118/118 [==============================] - 1s 5ms/step - loss: 2.1312 - accuracy: 0.3767\n",
            "Epoch 19/160\n",
            "118/118 [==============================] - 1s 5ms/step - loss: 2.1150 - accuracy: 0.3894\n",
            "Epoch 20/160\n",
            "118/118 [==============================] - 1s 4ms/step - loss: 2.0981 - accuracy: 0.3972\n",
            "Epoch 21/160\n",
            "118/118 [==============================] - 1s 5ms/step - loss: 2.0807 - accuracy: 0.4024\n",
            "Epoch 22/160\n",
            "118/118 [==============================] - 1s 4ms/step - loss: 2.0629 - accuracy: 0.4173\n",
            "Epoch 23/160\n",
            "118/118 [==============================] - 1s 5ms/step - loss: 2.0446 - accuracy: 0.4256\n",
            "Epoch 24/160\n",
            "118/118 [==============================] - 1s 4ms/step - loss: 2.0261 - accuracy: 0.4376\n",
            "Epoch 25/160\n",
            "118/118 [==============================] - 1s 4ms/step - loss: 2.0075 - accuracy: 0.4490\n",
            "Epoch 26/160\n",
            "118/118 [==============================] - 1s 4ms/step - loss: 1.9887 - accuracy: 0.4600\n",
            "Epoch 27/160\n",
            "118/118 [==============================] - 1s 5ms/step - loss: 1.9700 - accuracy: 0.4685\n",
            "Epoch 28/160\n",
            "118/118 [==============================] - 1s 4ms/step - loss: 1.9513 - accuracy: 0.4758\n",
            "Epoch 29/160\n",
            "118/118 [==============================] - 1s 5ms/step - loss: 1.9327 - accuracy: 0.4840\n",
            "Epoch 30/160\n",
            "118/118 [==============================] - 1s 5ms/step - loss: 1.9142 - accuracy: 0.4929\n",
            "Epoch 31/160\n",
            "118/118 [==============================] - 1s 7ms/step - loss: 1.8959 - accuracy: 0.5016\n",
            "Epoch 32/160\n",
            "118/118 [==============================] - 1s 7ms/step - loss: 1.8777 - accuracy: 0.5059\n",
            "Epoch 33/160\n",
            "118/118 [==============================] - 1s 7ms/step - loss: 1.8596 - accuracy: 0.5122\n",
            "Epoch 34/160\n",
            "118/118 [==============================] - 1s 7ms/step - loss: 1.8417 - accuracy: 0.5200\n",
            "Epoch 35/160\n",
            "118/118 [==============================] - 1s 7ms/step - loss: 1.8239 - accuracy: 0.5262\n",
            "Epoch 36/160\n",
            "118/118 [==============================] - 1s 6ms/step - loss: 1.8062 - accuracy: 0.5349\n",
            "Epoch 37/160\n",
            "118/118 [==============================] - 1s 5ms/step - loss: 1.7886 - accuracy: 0.5396\n",
            "Epoch 38/160\n",
            "118/118 [==============================] - 1s 4ms/step - loss: 1.7710 - accuracy: 0.5461\n",
            "Epoch 39/160\n",
            "118/118 [==============================] - 1s 5ms/step - loss: 1.7535 - accuracy: 0.5516\n",
            "Epoch 40/160\n",
            "118/118 [==============================] - 1s 4ms/step - loss: 1.7359 - accuracy: 0.5593\n",
            "Epoch 41/160\n",
            "118/118 [==============================] - 1s 5ms/step - loss: 1.7185 - accuracy: 0.5655\n",
            "Epoch 42/160\n",
            "118/118 [==============================] - 1s 5ms/step - loss: 1.7010 - accuracy: 0.5713\n",
            "Epoch 43/160\n",
            "118/118 [==============================] - 1s 4ms/step - loss: 1.6835 - accuracy: 0.5745\n",
            "Epoch 44/160\n",
            "118/118 [==============================] - 1s 4ms/step - loss: 1.6661 - accuracy: 0.5787\n",
            "Epoch 45/160\n",
            "118/118 [==============================] - 1s 7ms/step - loss: 1.6487 - accuracy: 0.5821\n",
            "Epoch 46/160\n",
            "118/118 [==============================] - 1s 5ms/step - loss: 1.6314 - accuracy: 0.5876\n",
            "Epoch 47/160\n",
            "118/118 [==============================] - 1s 5ms/step - loss: 1.6142 - accuracy: 0.5902\n",
            "Epoch 48/160\n",
            "118/118 [==============================] - 1s 5ms/step - loss: 1.5971 - accuracy: 0.5949\n",
            "Epoch 49/160\n",
            "118/118 [==============================] - 1s 4ms/step - loss: 1.5802 - accuracy: 0.6008\n",
            "Epoch 50/160\n",
            "118/118 [==============================] - 1s 5ms/step - loss: 1.5634 - accuracy: 0.6048\n",
            "Epoch 51/160\n",
            "118/118 [==============================] - 1s 5ms/step - loss: 1.5468 - accuracy: 0.6068\n",
            "Epoch 52/160\n",
            "118/118 [==============================] - 1s 5ms/step - loss: 1.5304 - accuracy: 0.6119\n",
            "Epoch 53/160\n",
            "118/118 [==============================] - 1s 5ms/step - loss: 1.5142 - accuracy: 0.6141\n",
            "Epoch 54/160\n",
            "118/118 [==============================] - 1s 6ms/step - loss: 1.4983 - accuracy: 0.6180\n",
            "Epoch 55/160\n",
            "118/118 [==============================] - 1s 7ms/step - loss: 1.4826 - accuracy: 0.6211\n",
            "Epoch 56/160\n",
            "118/118 [==============================] - 1s 7ms/step - loss: 1.4671 - accuracy: 0.6259\n",
            "Epoch 57/160\n",
            "118/118 [==============================] - 1s 7ms/step - loss: 1.4519 - accuracy: 0.6276\n",
            "Epoch 58/160\n",
            "118/118 [==============================] - 1s 7ms/step - loss: 1.4370 - accuracy: 0.6316\n",
            "Epoch 59/160\n",
            "118/118 [==============================] - 1s 6ms/step - loss: 1.4224 - accuracy: 0.6349\n",
            "Epoch 60/160\n",
            "118/118 [==============================] - 1s 4ms/step - loss: 1.4080 - accuracy: 0.6381\n",
            "Epoch 61/160\n",
            "118/118 [==============================] - 1s 4ms/step - loss: 1.3940 - accuracy: 0.6417\n",
            "Epoch 62/160\n",
            "118/118 [==============================] - 1s 5ms/step - loss: 1.3802 - accuracy: 0.6455\n",
            "Epoch 63/160\n",
            "118/118 [==============================] - 1s 5ms/step - loss: 1.3666 - accuracy: 0.6475\n",
            "Epoch 64/160\n",
            "118/118 [==============================] - 1s 5ms/step - loss: 1.3534 - accuracy: 0.6506\n",
            "Epoch 65/160\n",
            "118/118 [==============================] - 1s 5ms/step - loss: 1.3404 - accuracy: 0.6542\n",
            "Epoch 66/160\n",
            "118/118 [==============================] - 1s 5ms/step - loss: 1.3276 - accuracy: 0.6578\n",
            "Epoch 67/160\n",
            "118/118 [==============================] - 1s 5ms/step - loss: 1.3151 - accuracy: 0.6600\n",
            "Epoch 68/160\n",
            "118/118 [==============================] - 1s 5ms/step - loss: 1.3029 - accuracy: 0.6635\n",
            "Epoch 69/160\n",
            "118/118 [==============================] - 1s 5ms/step - loss: 1.2909 - accuracy: 0.6663\n",
            "Epoch 70/160\n",
            "118/118 [==============================] - 1s 5ms/step - loss: 1.2791 - accuracy: 0.6686\n",
            "Epoch 71/160\n",
            "118/118 [==============================] - 1s 4ms/step - loss: 1.2675 - accuracy: 0.6717\n",
            "Epoch 72/160\n",
            "118/118 [==============================] - 1s 5ms/step - loss: 1.2562 - accuracy: 0.6745\n",
            "Epoch 73/160\n",
            "118/118 [==============================] - 1s 4ms/step - loss: 1.2450 - accuracy: 0.6774\n",
            "Epoch 74/160\n",
            "118/118 [==============================] - 1s 5ms/step - loss: 1.2341 - accuracy: 0.6796\n",
            "Epoch 75/160\n",
            "118/118 [==============================] - 1s 5ms/step - loss: 1.2233 - accuracy: 0.6824\n",
            "Epoch 76/160\n",
            "118/118 [==============================] - 1s 5ms/step - loss: 1.2128 - accuracy: 0.6847\n",
            "Epoch 77/160\n",
            "118/118 [==============================] - 1s 5ms/step - loss: 1.2024 - accuracy: 0.6870\n",
            "Epoch 78/160\n",
            "118/118 [==============================] - 1s 7ms/step - loss: 1.1922 - accuracy: 0.6892\n",
            "Epoch 79/160\n",
            "118/118 [==============================] - 1s 7ms/step - loss: 1.1822 - accuracy: 0.6916\n",
            "Epoch 80/160\n",
            "118/118 [==============================] - 1s 7ms/step - loss: 1.1723 - accuracy: 0.6938\n",
            "Epoch 81/160\n",
            "118/118 [==============================] - 1s 7ms/step - loss: 1.1626 - accuracy: 0.6959\n",
            "Epoch 82/160\n",
            "118/118 [==============================] - 1s 7ms/step - loss: 1.1531 - accuracy: 0.6981\n",
            "Epoch 83/160\n",
            "118/118 [==============================] - 1s 5ms/step - loss: 1.1437 - accuracy: 0.7003\n",
            "Epoch 84/160\n",
            "118/118 [==============================] - 1s 5ms/step - loss: 1.1345 - accuracy: 0.7021\n",
            "Epoch 85/160\n",
            "118/118 [==============================] - 1s 4ms/step - loss: 1.1254 - accuracy: 0.7042\n",
            "Epoch 86/160\n",
            "118/118 [==============================] - 1s 5ms/step - loss: 1.1165 - accuracy: 0.7061\n",
            "Epoch 87/160\n",
            "118/118 [==============================] - 1s 5ms/step - loss: 1.1077 - accuracy: 0.7082\n",
            "Epoch 88/160\n",
            "118/118 [==============================] - 1s 5ms/step - loss: 1.0991 - accuracy: 0.7103\n",
            "Epoch 89/160\n",
            "118/118 [==============================] - 1s 4ms/step - loss: 1.0905 - accuracy: 0.7130\n",
            "Epoch 90/160\n",
            "118/118 [==============================] - 1s 5ms/step - loss: 1.0821 - accuracy: 0.7146\n",
            "Epoch 91/160\n",
            "118/118 [==============================] - 1s 5ms/step - loss: 1.0739 - accuracy: 0.7165\n",
            "Epoch 92/160\n",
            "118/118 [==============================] - 1s 5ms/step - loss: 1.0658 - accuracy: 0.7191\n",
            "Epoch 93/160\n",
            "118/118 [==============================] - 1s 4ms/step - loss: 1.0577 - accuracy: 0.7203\n",
            "Epoch 94/160\n",
            "118/118 [==============================] - 1s 5ms/step - loss: 1.0499 - accuracy: 0.7225\n",
            "Epoch 95/160\n",
            "118/118 [==============================] - 1s 5ms/step - loss: 1.0421 - accuracy: 0.7246\n",
            "Epoch 96/160\n",
            "118/118 [==============================] - 1s 5ms/step - loss: 1.0344 - accuracy: 0.7257\n",
            "Epoch 97/160\n",
            "118/118 [==============================] - 1s 5ms/step - loss: 1.0269 - accuracy: 0.7283\n",
            "Epoch 98/160\n",
            "118/118 [==============================] - 1s 5ms/step - loss: 1.0194 - accuracy: 0.7291\n",
            "Epoch 99/160\n",
            "118/118 [==============================] - 1s 5ms/step - loss: 1.0121 - accuracy: 0.7317\n",
            "Epoch 100/160\n",
            "118/118 [==============================] - 1s 5ms/step - loss: 1.0049 - accuracy: 0.7337\n",
            "Epoch 101/160\n",
            "118/118 [==============================] - 1s 6ms/step - loss: 0.9978 - accuracy: 0.7351\n",
            "Epoch 102/160\n",
            "118/118 [==============================] - 1s 7ms/step - loss: 0.9908 - accuracy: 0.7365\n",
            "Epoch 103/160\n",
            "118/118 [==============================] - 1s 7ms/step - loss: 0.9839 - accuracy: 0.7390\n",
            "Epoch 104/160\n",
            "118/118 [==============================] - 1s 7ms/step - loss: 0.9772 - accuracy: 0.7406\n",
            "Epoch 105/160\n",
            "118/118 [==============================] - 1s 7ms/step - loss: 0.9705 - accuracy: 0.7421\n",
            "Epoch 106/160\n",
            "118/118 [==============================] - 1s 8ms/step - loss: 0.9639 - accuracy: 0.7439\n",
            "Epoch 107/160\n",
            "118/118 [==============================] - 1s 5ms/step - loss: 0.9574 - accuracy: 0.7458\n",
            "Epoch 108/160\n",
            "118/118 [==============================] - 1s 5ms/step - loss: 0.9510 - accuracy: 0.7473\n",
            "Epoch 109/160\n",
            "118/118 [==============================] - 1s 5ms/step - loss: 0.9447 - accuracy: 0.7497\n",
            "Epoch 110/160\n",
            "118/118 [==============================] - 1s 5ms/step - loss: 0.9385 - accuracy: 0.7509\n",
            "Epoch 111/160\n",
            "118/118 [==============================] - 1s 5ms/step - loss: 0.9324 - accuracy: 0.7528\n",
            "Epoch 112/160\n",
            "118/118 [==============================] - 1s 5ms/step - loss: 0.9264 - accuracy: 0.7551\n",
            "Epoch 113/160\n",
            "118/118 [==============================] - 1s 5ms/step - loss: 0.9205 - accuracy: 0.7560\n",
            "Epoch 114/160\n",
            "118/118 [==============================] - 1s 5ms/step - loss: 0.9146 - accuracy: 0.7579\n",
            "Epoch 115/160\n",
            "118/118 [==============================] - 1s 5ms/step - loss: 0.9088 - accuracy: 0.7603\n",
            "Epoch 116/160\n",
            "118/118 [==============================] - 1s 4ms/step - loss: 0.9032 - accuracy: 0.7623\n",
            "Epoch 117/160\n",
            "118/118 [==============================] - 1s 5ms/step - loss: 0.8975 - accuracy: 0.7635\n",
            "Epoch 118/160\n",
            "118/118 [==============================] - 1s 5ms/step - loss: 0.8920 - accuracy: 0.7649\n",
            "Epoch 119/160\n",
            "118/118 [==============================] - 1s 5ms/step - loss: 0.8866 - accuracy: 0.7668\n",
            "Epoch 120/160\n",
            "118/118 [==============================] - 1s 5ms/step - loss: 0.8812 - accuracy: 0.7684\n",
            "Epoch 121/160\n",
            "118/118 [==============================] - 1s 5ms/step - loss: 0.8759 - accuracy: 0.7707\n",
            "Epoch 122/160\n",
            "118/118 [==============================] - 1s 4ms/step - loss: 0.8706 - accuracy: 0.7718\n",
            "Epoch 123/160\n",
            "118/118 [==============================] - 1s 5ms/step - loss: 0.8655 - accuracy: 0.7734\n",
            "Epoch 124/160\n",
            "118/118 [==============================] - 1s 4ms/step - loss: 0.8604 - accuracy: 0.7750\n",
            "Epoch 125/160\n",
            "118/118 [==============================] - 1s 7ms/step - loss: 0.8554 - accuracy: 0.7762\n",
            "Epoch 126/160\n",
            "118/118 [==============================] - 1s 7ms/step - loss: 0.8504 - accuracy: 0.7783\n",
            "Epoch 127/160\n",
            "118/118 [==============================] - 1s 7ms/step - loss: 0.8455 - accuracy: 0.7795\n",
            "Epoch 128/160\n",
            "118/118 [==============================] - 1s 7ms/step - loss: 0.8407 - accuracy: 0.7815\n",
            "Epoch 129/160\n",
            "118/118 [==============================] - 1s 7ms/step - loss: 0.8359 - accuracy: 0.7831\n",
            "Epoch 130/160\n",
            "118/118 [==============================] - 1s 6ms/step - loss: 0.8312 - accuracy: 0.7849\n",
            "Epoch 131/160\n",
            "118/118 [==============================] - 1s 5ms/step - loss: 0.8265 - accuracy: 0.7865\n",
            "Epoch 132/160\n",
            "118/118 [==============================] - 1s 5ms/step - loss: 0.8219 - accuracy: 0.7881\n",
            "Epoch 133/160\n",
            "118/118 [==============================] - 1s 5ms/step - loss: 0.8173 - accuracy: 0.7896\n",
            "Epoch 134/160\n",
            "118/118 [==============================] - 1s 5ms/step - loss: 0.8128 - accuracy: 0.7914\n",
            "Epoch 135/160\n",
            "118/118 [==============================] - 1s 5ms/step - loss: 0.8084 - accuracy: 0.7926\n",
            "Epoch 136/160\n",
            "118/118 [==============================] - 1s 5ms/step - loss: 0.8040 - accuracy: 0.7945\n",
            "Epoch 137/160\n",
            "118/118 [==============================] - 1s 5ms/step - loss: 0.7997 - accuracy: 0.7963\n",
            "Epoch 138/160\n",
            "118/118 [==============================] - 1s 5ms/step - loss: 0.7953 - accuracy: 0.7970\n",
            "Epoch 139/160\n",
            "118/118 [==============================] - 1s 5ms/step - loss: 0.7911 - accuracy: 0.7987\n",
            "Epoch 140/160\n",
            "118/118 [==============================] - 1s 5ms/step - loss: 0.7869 - accuracy: 0.8002\n",
            "Epoch 141/160\n",
            "118/118 [==============================] - 1s 5ms/step - loss: 0.7827 - accuracy: 0.8018\n",
            "Epoch 142/160\n",
            "118/118 [==============================] - 1s 5ms/step - loss: 0.7786 - accuracy: 0.8037\n",
            "Epoch 143/160\n",
            "118/118 [==============================] - 1s 5ms/step - loss: 0.7745 - accuracy: 0.8051\n",
            "Epoch 144/160\n",
            "118/118 [==============================] - 1s 5ms/step - loss: 0.7705 - accuracy: 0.8056\n",
            "Epoch 145/160\n",
            "118/118 [==============================] - 1s 5ms/step - loss: 0.7665 - accuracy: 0.8073\n",
            "Epoch 146/160\n",
            "118/118 [==============================] - 1s 5ms/step - loss: 0.7626 - accuracy: 0.8086\n",
            "Epoch 147/160\n",
            "118/118 [==============================] - 1s 5ms/step - loss: 0.7587 - accuracy: 0.8099\n",
            "Epoch 148/160\n",
            "118/118 [==============================] - 1s 6ms/step - loss: 0.7548 - accuracy: 0.8112\n",
            "Epoch 149/160\n",
            "118/118 [==============================] - 1s 7ms/step - loss: 0.7510 - accuracy: 0.8125\n",
            "Epoch 150/160\n",
            "118/118 [==============================] - 1s 7ms/step - loss: 0.7472 - accuracy: 0.8134\n",
            "Epoch 151/160\n",
            "118/118 [==============================] - 1s 7ms/step - loss: 0.7434 - accuracy: 0.8149\n",
            "Epoch 152/160\n",
            "118/118 [==============================] - 1s 7ms/step - loss: 0.7397 - accuracy: 0.8161\n",
            "Epoch 153/160\n",
            "118/118 [==============================] - 1s 10ms/step - loss: 0.7360 - accuracy: 0.8175\n",
            "Epoch 154/160\n",
            "118/118 [==============================] - 1s 7ms/step - loss: 0.7324 - accuracy: 0.8187\n",
            "Epoch 155/160\n",
            "118/118 [==============================] - 1s 8ms/step - loss: 0.7288 - accuracy: 0.8198\n",
            "Epoch 156/160\n",
            "118/118 [==============================] - 1s 7ms/step - loss: 0.7252 - accuracy: 0.8206\n",
            "Epoch 157/160\n",
            "118/118 [==============================] - 1s 8ms/step - loss: 0.7216 - accuracy: 0.8219\n",
            "Epoch 158/160\n",
            "118/118 [==============================] - 1s 8ms/step - loss: 0.7181 - accuracy: 0.8232\n",
            "Epoch 159/160\n",
            "118/118 [==============================] - 1s 5ms/step - loss: 0.7146 - accuracy: 0.8241\n",
            "Epoch 160/160\n",
            "118/118 [==============================] - 1s 5ms/step - loss: 0.7112 - accuracy: 0.8253\n"
          ]
        },
        {
          "output_type": "execute_result",
          "data": {
            "text/plain": [
              "<keras.src.callbacks.History at 0x795039ab3be0>"
            ]
          },
          "metadata": {},
          "execution_count": 7
        }
      ]
    },
    {
      "cell_type": "code",
      "source": [
        "test_loss, test_acc = network.evaluate(test_images, test_labels)\n",
        "print('Test Accuracy: {:.5f} '.format(test_acc))\n",
        "test_acc"
      ],
      "metadata": {
        "colab": {
          "base_uri": "https://localhost:8080/"
        },
        "id": "1SdiazjXgBXW",
        "outputId": "a6ea4f6f-0548-4367-c904-bd8ed2467bfa"
      },
      "execution_count": 8,
      "outputs": [
        {
          "output_type": "stream",
          "name": "stdout",
          "text": [
            "313/313 [==============================] - 1s 2ms/step - loss: 0.7012 - accuracy: 0.8309\n",
            "Test Accuracy: 0.83090 \n"
          ]
        },
        {
          "output_type": "execute_result",
          "data": {
            "text/plain": [
              "0.8309000134468079"
            ]
          },
          "metadata": {},
          "execution_count": 8
        }
      ]
    },
    {
      "cell_type": "code",
      "source": [
        "from keras.utils import plot_model\n",
        "plot_model(network, to_file='model.png')\n",
        "import matplotlib.pyplot as plt\n",
        "history =network.fit(train_images, train_labels, validation_split=0.33,epochs=5, batch_size=512)\n",
        "history_dict = history.history\n",
        "print(history_dict.keys())\n",
        "plt.plot(history.history['accuracy'])\n",
        "plt.plot(history.history['val_accuracy'])\n",
        "plt.title('Model accuracy')\n",
        "plt.ylabel('Accuracy')\n",
        "plt.xlabel('Epoch')\n",
        "plt.legend(['Train', 'Test'], loc='upper left')\n",
        "plt.show()\n",
        "\n",
        "\n",
        "# Plot training & validation loss values\n",
        "plt.plot(history.history['loss'])\n",
        "plt.plot(history.history['val_loss'])\n",
        "plt.title('Model loss')\n",
        "plt.ylabel('Loss')\n",
        "plt.xlabel('Epoch')\n",
        "plt.legend(['Train', 'Test'], loc='upper left')\n",
        "plt.show()"
      ],
      "metadata": {
        "colab": {
          "base_uri": "https://localhost:8080/",
          "height": 1000
        },
        "id": "Pa-b4kBRgIBH",
        "outputId": "cd4205c5-e201-4a5f-c0b5-4c36d7d51528"
      },
      "execution_count": 9,
      "outputs": [
        {
          "output_type": "stream",
          "name": "stdout",
          "text": [
            "Epoch 1/5\n",
            "79/79 [==============================] - 1s 14ms/step - loss: 0.7136 - accuracy: 0.8232 - val_loss: 0.6964 - val_accuracy: 0.8332\n",
            "Epoch 2/5\n",
            "79/79 [==============================] - 1s 11ms/step - loss: 0.7113 - accuracy: 0.8239 - val_loss: 0.6942 - val_accuracy: 0.8336\n",
            "Epoch 3/5\n",
            "79/79 [==============================] - 1s 11ms/step - loss: 0.7090 - accuracy: 0.8252 - val_loss: 0.6920 - val_accuracy: 0.8343\n",
            "Epoch 4/5\n",
            "79/79 [==============================] - 1s 7ms/step - loss: 0.7067 - accuracy: 0.8258 - val_loss: 0.6899 - val_accuracy: 0.8351\n",
            "Epoch 5/5\n",
            "79/79 [==============================] - 1s 11ms/step - loss: 0.7045 - accuracy: 0.8260 - val_loss: 0.6877 - val_accuracy: 0.8361\n",
            "dict_keys(['loss', 'accuracy', 'val_loss', 'val_accuracy'])\n"
          ]
        },
        {
          "output_type": "display_data",
          "data": {
            "text/plain": [
              "<Figure size 640x480 with 1 Axes>"
            ],
            "image/png": "[encoded data removed]"
          },
          "metadata": {}
        },
        {
          "output_type": "display_data",
          "data": {
            "text/plain": [
              "<Figure size 640x480 with 1 Axes>"
            ],
            "image/png": "[encoded data removed]"
          },
          "metadata": {}
        }
      ]
    }
  ]
}